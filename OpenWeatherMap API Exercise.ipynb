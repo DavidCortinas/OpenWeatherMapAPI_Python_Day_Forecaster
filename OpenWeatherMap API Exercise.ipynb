{
 "cells": [
  {
   "cell_type": "code",
   "execution_count": 1,
   "metadata": {},
   "outputs": [],
   "source": [
    "# OpenweatherMap API\n",
    "\n",
    "# https://openweathermap.org"
   ]
  },
  {
   "cell_type": "code",
   "execution_count": 2,
   "metadata": {},
   "outputs": [],
   "source": [
    "# API/Developer\n",
    "\n",
    "# Sign Up for account\n",
    "\n",
    "# Find Where API key is\n",
    "\n",
    "# Attach the API key to EVERY single API call\n",
    "\n",
    "# Look up API documentation for the current forecast\n",
    "\n",
    "# Find out how to make an API call\n",
    "\n",
    "# Current weather conditions\n",
    "# Today's High Temperature\n",
    "# Current Temperature\n",
    "# Today's Low Temperature\n",
    "# Humidity\n",
    "# City, State"
   ]
  },
  {
   "cell_type": "code",
   "execution_count": 1,
   "metadata": {},
   "outputs": [
    {
     "data": {
      "text/plain": [
       "{'coord': {'lon': -97.7431, 'lat': 30.2672},\n",
       " 'weather': [{'id': 701,\n",
       "   'main': 'Mist',\n",
       "   'description': 'mist',\n",
       "   'icon': '50d'}],\n",
       " 'base': 'stations',\n",
       " 'main': {'temp': 289.85,\n",
       "  'feels_like': 290.03,\n",
       "  'temp_min': 289.15,\n",
       "  'temp_max': 290.37,\n",
       "  'pressure': 1009,\n",
       "  'humidity': 94},\n",
       " 'visibility': 2012,\n",
       " 'wind': {'speed': 1.54, 'deg': 130},\n",
       " 'clouds': {'all': 90},\n",
       " 'dt': 1618582851,\n",
       " 'sys': {'type': 1,\n",
       "  'id': 3344,\n",
       "  'country': 'US',\n",
       "  'sunrise': 1618574532,\n",
       "  'sunset': 1618621124},\n",
       " 'timezone': -18000,\n",
       " 'id': 4671654,\n",
       " 'name': 'Austin',\n",
       " 'cod': 200}"
      ]
     },
     "execution_count": 1,
     "metadata": {},
     "output_type": "execute_result"
    }
   ],
   "source": [
    "# 1. how do I know what data is coming in\n",
    "import requests \n",
    "from IPython.display import clear_output as co\n",
    "key = '30d66dc81194d98d47af61ff65c4eae7'\n",
    "data = requests.get(f'http://api.openweathermap.org/data/2.5/weather?q=Austin,USTX&appid={key}').json()\n",
    "data"
   ]
  },
  {
   "cell_type": "code",
   "execution_count": 4,
   "metadata": {},
   "outputs": [],
   "source": [
    "# 2. Determining what data I want and how I want to organize it\n",
    "# 2.1 - current conditions, today's high, current temp, today's low, humidity, (city, state)\n",
    "# Current weather conditions\n",
    "# Today's High Temperature\n",
    "# Current Temperature\n",
    "# Today's Low Temperature\n",
    "# Humidity\n",
    "# City, State"
   ]
  },
  {
   "cell_type": "code",
   "execution_count": 37,
   "metadata": {},
   "outputs": [
    {
     "data": {
      "text/plain": [
       "'Austin'"
      ]
     },
     "execution_count": 37,
     "metadata": {},
     "output_type": "execute_result"
    }
   ],
   "source": [
    "# # 3.1 Get the current conditions\n",
    "# current_conditions = data['weather'][0]['description']\n",
    "# current_conditions\n",
    "# # 3.2 Get today's high in F\n",
    "# todays_high = (data['main']['temp_max']-273)*1.8 + 32\n",
    "# todays_high\n",
    "# # 3.3 Get current Temp in F\n",
    "# current_temp = (data['main']['temp']-273)*1.8 + 32\n",
    "# current_temp\n",
    "# # 3.4 Get today's low in F\n",
    "# todays_low = (data['main']['temp_min']-273)*1.8 + 32\n",
    "# todays_low\n",
    "# # 3.5 Get humidity\n",
    "# humidity = data['main']['humidity']\n",
    "# humidity\n",
    "# # 3.6 Get city, state(???)\n",
    "# city = data['name']\n",
    "# city\n"
   ]
  },
  {
   "cell_type": "code",
   "execution_count": 2,
   "metadata": {},
   "outputs": [
    {
     "data": {
      "text/plain": [
       "{'city': 'Austin',\n",
       " 'state': 'TX',\n",
       " 'current conditions': 'mist',\n",
       " 'current temperature': 62.33000000000004,\n",
       " 'todays high': 63,\n",
       " 'todays low': 61.069999999999965,\n",
       " 'humidity': 94}"
      ]
     },
     "execution_count": 2,
     "metadata": {},
     "output_type": "execute_result"
    }
   ],
   "source": [
    "def todays_forecast(city_name, state_abbr):\n",
    "    data = requests.get(f'http://api.openweathermap.org/data/2.5/weather?q={city_name.lower()},US{state_abbr}&appid={key}').json()\n",
    "    current_weather = {\n",
    "        'city': data['name'],\n",
    "        'state': state_abbr.upper(),\n",
    "        'current conditions': data['weather'][0]['description'],\n",
    "        'current temperature': (data['main']['temp']-273)*1.8 + 32,\n",
    "        'todays high': int((data['main']['temp_max']-273)*1.8 + 32),\n",
    "        'todays low': (data['main']['temp_min']-273)*1.8 + 32,\n",
    "        'humidity': data['main']['humidity']\n",
    "    }\n",
    "    return current_weather\n",
    "\n",
    "weather = todays_forecast('austin', 'tx')\n",
    "# weather = ['austin', 'dallas', 'chicago', 'philadelphia', 'brooklyn', 'los angeles']\n",
    "# weather = [todays_forecast(x) for x in weather]\n",
    "weather"
   ]
  },
  {
   "cell_type": "code",
   "execution_count": 3,
   "metadata": {},
   "outputs": [
    {
     "name": "stdout",
     "output_type": "stream",
     "text": [
      "Type the name of the city and state that you would like the forecast for.\n",
      "City: austin\n",
      "State(Abbr): tx\n"
     ]
    },
    {
     "data": {
      "text/plain": [
       "{'city': 'Austin',\n",
       " 'state': 'TX',\n",
       " 'current conditions': 'mist',\n",
       " 'current temperature': 62.366000000000014,\n",
       " 'todays high': 63,\n",
       " 'todays low': 61.069999999999965,\n",
       " 'humidity': 94}"
      ]
     },
     "execution_count": 3,
     "metadata": {},
     "output_type": "execute_result"
    }
   ],
   "source": [
    "\"\"\"State Function still not working properly. Shows the state input but doesn't correspond to actual state.\n",
    "Can only get the call for the state higher in priority\"\"\"\n",
    "\n",
    "\"\"\"Can't figure out how to return forecast but still keep going through while loop\"\"\"\n",
    "\n",
    "class Weather:\n",
    "#     def __init__(self, city_name, state_abbr):\n",
    "#         data = requests.get(f'http://api.openweathermap.org/data/2.5/weather?q={city_name.lower()},US{state_abbr}&appid=30d66dc81194d98d47af61ff65c4eae7').json()\n",
    "#         self.city = data['name']\n",
    "#         self.state = state_abbr\n",
    "#         self.conditions = data['weather'][0]['description']\n",
    "#         self.current_temp = (data['main']['temp']-273)*1.8 + 32\n",
    "#         self.high = (data['main']['temp_max']-273)*1.8 + 32\n",
    "#         self.low = (data['main']['temp_min']-273)*1.8 + 32\n",
    "#         self.humidity = data['main']['humidity']\n",
    "\n",
    "    @classmethod\n",
    "    def run(self):\n",
    "        run = True\n",
    "        prompt = input(\"\"\"Welcome to the Python Day Forecaster! \n",
    "Type 'quit' to end the program.\n",
    "Press any key to continue. \"\"\")\n",
    "        while run:\n",
    "            co()\n",
    "            if prompt == 'quit':\n",
    "                run = False\n",
    "                break\n",
    "            else:\n",
    "                print(\"Type the name of the city and state that you would like the forecast for.\")\n",
    "                city_name = input(\"City: \")\n",
    "                state_abbr = input(\"State(Abbr): \")\n",
    "                return todays_forecast(city_name, state_abbr)\n",
    "                \n",
    "           \n",
    "\n",
    "            \n",
    "            \n",
    "                \n",
    "        \n",
    "Weather.run()"
   ]
  },
  {
   "cell_type": "code",
   "execution_count": 4,
   "metadata": {},
   "outputs": [
    {
     "name": "stdout",
     "output_type": "stream",
     "text": [
      "Type the name of the city and state that you would like the forecast for.\n",
      "City: brooklyn\n",
      "State(Abbr): ny\n"
     ]
    },
    {
     "data": {
      "text/plain": [
       "{'city': 'Brooklyn',\n",
       " 'state': 'NY',\n",
       " 'current conditions': 'overcast clouds',\n",
       " 'current temperature': 47.94800000000002,\n",
       " 'todays high': 49,\n",
       " 'todays low': 46.274000000000015,\n",
       " 'humidity': 61}"
      ]
     },
     "execution_count": 4,
     "metadata": {},
     "output_type": "execute_result"
    }
   ],
   "source": [
    "Weather.run()"
   ]
  },
  {
   "cell_type": "code",
   "execution_count": null,
   "metadata": {},
   "outputs": [],
   "source": []
  },
  {
   "cell_type": "code",
   "execution_count": null,
   "metadata": {},
   "outputs": [],
   "source": []
  }
 ],
 "metadata": {
  "kernelspec": {
   "display_name": "Python 3",
   "language": "python",
   "name": "python3"
  },
  "language_info": {
   "codemirror_mode": {
    "name": "ipython",
    "version": 3
   },
   "file_extension": ".py",
   "mimetype": "text/x-python",
   "name": "python",
   "nbconvert_exporter": "python",
   "pygments_lexer": "ipython3",
   "version": "3.8.5"
  }
 },
 "nbformat": 4,
 "nbformat_minor": 5
}
